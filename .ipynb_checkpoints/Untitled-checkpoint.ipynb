{
 "cells": [
  {
   "cell_type": "code",
   "execution_count": 2,
   "id": "d6c4524c-78e4-41f3-95f8-bdbd1183efc4",
   "metadata": {},
   "outputs": [],
   "source": [
    "import cv2\n",
    "import numpy as np\n",
    "import os"
   ]
  },
  {
   "cell_type": "code",
   "execution_count": 3,
   "id": "b9783c73-511b-4442-be53-5127cd8bfe5b",
   "metadata": {},
   "outputs": [],
   "source": [
    "# Read and show image\n",
    "\n",
    "img = cv2.imread(r\"C:\\Users\\ATHARV YOGI\\Desktop\\opencv\\imgs\\img1.jpg\")\n",
    "cv2.imshow(\"atharv\",img)\n",
    "cv2.waitKey(0)\n",
    "cv2.destroyAllWindows()"
   ]
  },
  {
   "cell_type": "code",
   "execution_count": 4,
   "id": "721fa2a1-a43d-4833-b695-bfc3eb5de885",
   "metadata": {},
   "outputs": [
    {
     "data": {
      "text/plain": [
       "array([1, 2, 3, 1, 2, 3, 1, 2, 3, 1, 2, 3])"
      ]
     },
     "execution_count": 4,
     "metadata": {},
     "output_type": "execute_result"
    }
   ],
   "source": [
    "v = np.array([1,2,3,1,2,3])\n",
    "np.hstack((v,v))"
   ]
  },
  {
   "cell_type": "code",
   "execution_count": 5,
   "id": "de7ca7c6-688b-4087-acdc-1082532d92d4",
   "metadata": {},
   "outputs": [
    {
     "name": "stdout",
     "output_type": "stream",
     "text": [
      "None\n"
     ]
    }
   ],
   "source": [
    "img = cv2.imread(\"img1.jpg\")\n",
    "print(img)"
   ]
  },
  {
   "cell_type": "code",
   "execution_count": 28,
   "id": "4220f281-5a67-4166-9d4b-612eb982441b",
   "metadata": {},
   "outputs": [],
   "source": [
    "# show multiple image\n",
    "\n",
    "img = cv2.imread(r\"C:\\Users\\ATHARV YOGI\\Desktop\\opencv\\imgs\\img1.jpg\")\n",
    "re_img = cv2.resize(img,(500,500))\n",
    "h = np.hstack((re_img,re_img))\n",
    "v = np.vstack((h,h))\n",
    "cv2.imshow(\"atharv\",v)\n",
    "cv2.waitKey(0)\n",
    "cv2.destroyAllWindows()"
   ]
  },
  {
   "cell_type": "code",
   "execution_count": 7,
   "id": "aa9c1f3c-bf72-4baf-a080-c7a4b4941258",
   "metadata": {},
   "outputs": [
    {
     "data": {
      "text/plain": [
       "['.ipynb_checkpoints', 'imgs', 'Untitled.ipynb']"
      ]
     },
     "execution_count": 7,
     "metadata": {},
     "output_type": "execute_result"
    }
   ],
   "source": [
    "list_name = os.listdir(r\"C:\\Users\\ATHARV YOGI\\Desktop\\opencv\")\n",
    "list_name"
   ]
  },
  {
   "cell_type": "code",
   "execution_count": 29,
   "id": "9c0a53ff-4364-4ca3-8924-10a4ed8899ca",
   "metadata": {},
   "outputs": [],
   "source": [
    "# show slide show\n",
    "\n",
    "list_name = os.listdir(r\"C:\\Users\\ATHARV YOGI\\Desktop\\opencv\\imgs\")\n",
    "for name in list_name:\n",
    "    path = \"C:\\\\Users\\\\ATHARV YOGI\\\\Desktop\\\\opencv\\\\imgs\"\n",
    "    img_name = path + \"\\\\\" + name\n",
    "    img = cv2.imread(img_name)\n",
    "    img = cv2.resize(img,(500,500))\n",
    "    cv2.imshow(\"atharv\",img)\n",
    "    cv2.waitKey(2000)\n",
    "    cv2.destroyAllWindows()\n",
    "    "
   ]
  },
  {
   "cell_type": "code",
   "execution_count": 14,
   "id": "0d4ddd43-fdf2-47fe-b644-f6805a9e4b43",
   "metadata": {},
   "outputs": [
    {
     "name": "stdout",
     "output_type": "stream",
     "text": [
      "[[212 212 212 ... 212 212 212]\n",
      " [212 212 212 ... 212 212 212]\n",
      " [212 212 212 ... 212 212 212]\n",
      " ...\n",
      " [213 212 212 ... 150 201 227]\n",
      " [213 212 212 ...  50  81 113]\n",
      " [213 212 212 ...  35  40  54]]\n",
      "(1024, 1024)\n"
     ]
    },
    {
     "data": {
      "text/plain": [
       "-1"
      ]
     },
     "execution_count": 14,
     "metadata": {},
     "output_type": "execute_result"
    }
   ],
   "source": [
    "img = cv2.imread(r\"C:\\Users\\ATHARV YOGI\\Desktop\\opencv\\imgs\\img1.jpg\",0)\n",
    "print(img)\n",
    "print(img.shape)\n",
    "img = cv2.resize(img,(500,500))\n",
    "cv2.imshow(\"atharv\",img)\n",
    "cv2.waitKey(0)\n"
   ]
  },
  {
   "cell_type": "code",
   "execution_count": 26,
   "id": "ac4beaf0-3f12-4c35-8090-493d95ef815f",
   "metadata": {},
   "outputs": [],
   "source": [
    "# text over a image\n",
    "\n",
    "img_get = cv2.imread(r\"C:\\Users\\ATHARV YOGI\\Desktop\\opencv\\imgs\\img1.jpg\")\n",
    "img_get = cv2.resize(img_get,(500,500))\n",
    "\n",
    "\n",
    "txt = cv2.putText(\n",
    "img = img_get,\n",
    "text = \"atharv\",\n",
    "org = (50,80),\n",
    "fontFace = cv2.FONT_HERSHEY_DUPLEX,\n",
    "fontScale = 3,\n",
    "color = (82,59,83),\n",
    "thickness = 3,\n",
    "lineType = cv2.LINE_8,\n",
    "bottomLeftOrigin = False )\n",
    "\n",
    "txt = cv2.putText(\n",
    "img = txt,\n",
    "text = \"atharv\",\n",
    "org = (50,80),\n",
    "fontFace = cv2.FONT_HERSHEY_DUPLEX,\n",
    "fontScale = 3,\n",
    "color = (82,59,83),\n",
    "thickness = 3,\n",
    "lineType = cv2.LINE_8,\n",
    "bottomLeftOrigin = True )\n",
    "\n",
    "cv2.imshow(\"atharv\",txt)\n",
    "cv2.waitKey(0)\n",
    "cv2.destroyAllWindows()\n"
   ]
  },
  {
   "cell_type": "code",
   "execution_count": 8,
   "id": "98a5473e-ed1c-4d7f-b80f-d58df05823fe",
   "metadata": {},
   "outputs": [],
   "source": [
    "# Draw line on image\n",
    "\n",
    "old_img = cv2.imread(r\"C:\\Users\\ATHARV YOGI\\Desktop\\opencv\\imgs\\img1.jpg\")\n",
    "old_img = cv2.resize(old_img,(500,500))\n",
    "\n",
    "new_img = cv2.line(img = old_img , pt1 = (150,250) , pt2 = (250,250) , color = (0,2,25) , thickness = 7 , lineType = 4 )\n",
    "\n",
    "cv2.imshow(\"atharv\",new_img)\n",
    "cv2.waitKey(0)\n",
    "cv2.destroyAllWindows()"
   ]
  },
  {
   "cell_type": "code",
   "execution_count": 21,
   "id": "7b050e9f-4da7-4946-b817-2dfaac1f6cb6",
   "metadata": {},
   "outputs": [],
   "source": [
    "# Draw rectangle on image\n",
    "\n",
    "old_img = cv2.imread(r\"C:\\Users\\ATHARV YOGI\\Desktop\\opencv\\imgs\\img1.jpg\")\n",
    "old_img = cv2.resize(old_img,(500,500))\n",
    "\n",
    "txt_img = cv2.putText(img = old_img ,\n",
    "                      text = \"atharv\" ,\n",
    "                      org = (145,80) ,\n",
    "                      fontFace = 2 ,\n",
    "                      fontScale = 2 ,\n",
    "                      color = (0,0,255) ,\n",
    "                      thickness = 2 ,\n",
    "                      lineType = 16 ,\n",
    "                      bottomLeftOrigin = False ) \n",
    "\n",
    "new_img = cv2.rectangle(img = old_img , pt1 = (100,100) , pt2 = (400,440) , color = (0,225,0) , thickness = 4 , lineType = 4 )\n",
    "\n",
    "cv2.imshow(\"atharv\",new_img)\n",
    "cv2.waitKey(0)\n",
    "cv2.destroyAllWindows()"
   ]
  },
  {
   "cell_type": "code",
   "execution_count": 31,
   "id": "635754fc-dece-4b4b-ab3a-4c34317340d7",
   "metadata": {},
   "outputs": [],
   "source": [
    "# Draw circle on image\n",
    "\n",
    "old_img = cv2.imread(r\"C:\\Users\\ATHARV YOGI\\Desktop\\opencv\\imgs\\img1.jpg\")\n",
    "old_img= cv2.resize(old_img,(500,500))\n",
    "\n",
    "new_img = cv2.circle(img = old_img , center = (250,250) , radius = 180 , color = (0,255,0) , thickness = 2 , lineType = 16 )\n",
    "\n",
    "cv2.imshow(\"atharv\",old_img)\n",
    "cv2.waitKey(0)\n",
    "cv2.destroyAllWindows()"
   ]
  },
  {
   "cell_type": "code",
   "execution_count": null,
   "id": "ab7add2a-d160-4f65-8e50-2d145ea92a3e",
   "metadata": {},
   "outputs": [],
   "source": []
  },
  {
   "cell_type": "code",
   "execution_count": 49,
   "id": "77e3d7ad-8a0b-4ed1-ae85-7fdfb64c3424",
   "metadata": {},
   "outputs": [],
   "source": [
    "# Draw ellipse on image\n",
    "\n",
    "old_img = cv2.imread(r\"C:\\Users\\ATHARV YOGI\\Desktop\\opencv\\imgs\\img1.jpg\")\n",
    "old_img= cv2.resize(old_img,(500,500))\n",
    "\n",
    "txt_img = cv2.putText(img = old_img ,\n",
    "                      text = \"atharv\" ,\n",
    "                      org = (145,80) ,\n",
    "                      fontFace = 2 ,\n",
    "                      fontScale = 2 ,\n",
    "                      color = (0,0,255) ,\n",
    "                      thickness = 2 ,\n",
    "                      lineType = 16 ,\n",
    "                      bottomLeftOrigin = False ) \n",
    "\n",
    "new_img = cv2.ellipse(img = txt_img , center = (250,250) , axes = (120,180) , angle = 30 , startAngle = 0 , endAngle = 360 , color = (0,255,0) , thickness = 2 , lineType = 16 )\n",
    "\n",
    "cv2.imshow(\"atharv\",old_img)\n",
    "cv2.waitKey(0)\n",
    "cv2.destroyAllWindows()"
   ]
  },
  {
   "cell_type": "code",
   "execution_count": null,
   "id": "cffab4b4-25b4-4516-9301-ef972399f569",
   "metadata": {},
   "outputs": [],
   "source": []
  }
 ],
 "metadata": {
  "kernelspec": {
   "display_name": "Python 3 (ipykernel)",
   "language": "python",
   "name": "python3"
  },
  "language_info": {
   "codemirror_mode": {
    "name": "ipython",
    "version": 3
   },
   "file_extension": ".py",
   "mimetype": "text/x-python",
   "name": "python",
   "nbconvert_exporter": "python",
   "pygments_lexer": "ipython3",
   "version": "3.11.7"
  }
 },
 "nbformat": 4,
 "nbformat_minor": 5
}
